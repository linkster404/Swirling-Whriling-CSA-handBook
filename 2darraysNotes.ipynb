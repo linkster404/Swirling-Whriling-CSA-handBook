{
 "cells": [
  {
   "attachments": {},
   "cell_type": "markdown",
   "metadata": {},
   "source": [
    "Java notes for 2D arrays :\n",
    "    2D arrays are basically just arrays that have multiple dimensions, arrays within arrays "
   ]
  },
  {
   "attachments": {},
   "cell_type": "markdown",
   "metadata": {
    "tags": []
   },
   "source": [
    "Instantiation for 2d arrays: works just like the a 1d array with an extra dimension\n",
    "    -stuff like default values, and literal instantiation all work the same too\n",
    "    -the regular toString method doesn't work though so you have to use deepToString"
   ]
  },
  {
   "cell_type": "code",
   "execution_count": 2,
   "metadata": {
    "vscode": {
     "languageId": "java"
    }
   },
   "outputs": [
    {
     "name": "stdout",
     "output_type": "stream",
     "text": [
      "[[0, 0, 0], [0, 0, 0], [0, 0, 0]]\n"
     ]
    }
   ],
   "source": [
    "//example with non-literal instantiation\n",
    "int[][] example = new int[3][3];\n",
    "System.out.println(Arrays.deepToString(example));"
   ]
  },
  {
   "cell_type": "code",
   "execution_count": 4,
   "metadata": {
    "vscode": {
     "languageId": "java"
    }
   },
   "outputs": [
    {
     "name": "stdout",
     "output_type": "stream",
     "text": [
      "[[1, 2, 3], [1, 2, 3], [1, 2, 3]]\n"
     ]
    }
   ],
   "source": [
    "//example literal instantiation \n",
    "int[][] example2 = {\n",
    "{1,2,3}, \n",
    "{1,2,3},\n",
    "{1,2,3}};\n",
    "System.out.println(Arrays.deepToString(example2));"
   ]
  },
  {
   "attachments": {},
   "cell_type": "markdown",
   "metadata": {},
   "source": [
    "Traversing 2d arrays:\n",
    "    -in order to do this you use nested for-loops or for each loops\n",
    "    -Tip: use descriptive names for your iterators, this will save you a lot of grief if you have to do column major order.  "
   ]
  },
  {
   "cell_type": "code",
   "execution_count": 8,
   "metadata": {
    "vscode": {
     "languageId": "java"
    }
   },
   "outputs": [
    {
     "name": "stdout",
     "output_type": "stream",
     "text": [
      "123\n",
      "123\n",
      "123\n"
     ]
    }
   ],
   "source": [
    "//traditional for loops\n",
    "for(int row1 = 0; row1 < example2.length; row1++){\n",
    "    for(int col1 = 0; col1 < example2[row1].length; col1++){\n",
    "        System.out.print(example2[row1][col1]);\n",
    "    }\n",
    "    System.out.println();\n",
    "}"
   ]
  },
  {
   "cell_type": "code",
   "execution_count": 9,
   "metadata": {
    "vscode": {
     "languageId": "java"
    }
   },
   "outputs": [
    {
     "name": "stdout",
     "output_type": "stream",
     "text": [
      "123\n",
      "123\n",
      "123\n"
     ]
    }
   ],
   "source": [
    "//for-each loops\n",
    "for(int[] row2: example2){\n",
    "    for(int element: row2){\n",
    "        System.out.print(element);\n",
    "    }\n",
    "    System.out.println();\n",
    "}"
   ]
  },
  {
   "attachments": {},
   "cell_type": "markdown",
   "metadata": {},
   "source": [
    "Column major order:\n",
    "    -some times you have to access things by rows instead of columns\n",
    "    -don't do this if you don't have to because java uses row major by default\n",
    "    -really use descriptive names here you will get confused"
   ]
  },
  {
   "cell_type": "code",
   "execution_count": 12,
   "metadata": {
    "vscode": {
     "languageId": "java"
    }
   },
   "outputs": [
    {
     "name": "stdout",
     "output_type": "stream",
     "text": [
      "111\n",
      "222\n",
      "333\n"
     ]
    }
   ],
   "source": [
    "//prints the columns first and then the row\n",
    "for(int row3 = 0; row3 < example2.length; row3++){\n",
    "    for(int col2 = 0; col2 < example2[row3].length; col2++){\n",
    "        System.out.print(example2[col2][row3]);\n",
    "    }\n",
    "    System.out.println();\n",
    "}"
   ]
  },
  {
   "attachments": {},
   "cell_type": "markdown",
   "metadata": {},
   "source": [
    "instating jagged arrays:\n",
    "    -jagged arrays are arrays that don't dimensions all the same length\n",
    "    -this has some interesting declarations as well, I only declare one dimension, the rest of the dimensions are defined in the loop\n",
    "    -it is important to do the length of the row your iterating though in the middle loop, instead of just the first row"
   ]
  },
  {
   "cell_type": "code",
   "execution_count": 19,
   "metadata": {
    "vscode": {
     "languageId": "java"
    }
   },
   "outputs": [
    {
     "name": "stdout",
     "output_type": "stream",
     "text": [
      "[[1], [2, 3], [4, 5, 6, 7]]\n"
     ]
    }
   ],
   "source": [
    "//declaring jagged arrays\n",
    "int[][] example3 = new int[3][];\n",
    "int count = 1;\n",
    "for(int row = 0; row < example3.length; row++){\n",
    "    int[] temp = new int[count];\n",
    "    for(int col = 0; col < temp.length; col++){\n",
    "        temp[col] = count;\n",
    "        count++;\n",
    "    }\n",
    "    example3[row] = temp;\n",
    "}\n",
    "System.out.println(Arrays.deepToString(example3));"
   ]
  },
  {
   "cell_type": "code",
   "execution_count": 18,
   "metadata": {
    "vscode": {
     "languageId": "java"
    }
   },
   "outputs": [
    {
     "name": "stdout",
     "output_type": "stream",
     "text": [
      "[[1, 2, 3], [2, 3], [6, 7, 8, 9, 10]]\n"
     ]
    }
   ],
   "source": [
    "//literal instantiation of the array\n",
    "int[][] example4 = {\n",
    "    {1, 2, 3},\n",
    "    {2, 3},\n",
    "    {6, 7, 8, 9, 10}\n",
    "};\n",
    "System.out.println(Arrays.deepToString(example4));"
   ]
  }
 ],
 "metadata": {
  "kernelspec": {
   "display_name": "Java",
   "language": "java",
   "name": "java"
  },
  "language_info": {
   "codemirror_mode": "java",
   "file_extension": ".jshell",
   "mimetype": "text/x-java-source",
   "name": "Java",
   "pygments_lexer": "java",
   "version": "17.0.5+8"
  },
  "orig_nbformat": 4,
  "vscode": {
   "interpreter": {
    "hash": "cb452b44b0a02c9c8969f4ac88aef8a4bf2da1b6608d5042f6be1e1dd9688c42"
   }
  }
 },
 "nbformat": 4,
 "nbformat_minor": 2
}
